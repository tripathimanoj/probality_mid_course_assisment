{
  "cells": [
    {
      "cell_type": "markdown",
      "metadata": {
        "id": "XVRRli7RVQFs"
      },
      "source": [
        "# Customer Purchase Behavior Analysis using Descriptive Statistics"
      ]
    },
    {
      "cell_type": "markdown",
      "metadata": {
        "id": "jfhbp8ZDB7If"
      },
      "source": [
        "##Problem Statement"
      ]
    },
    {
      "cell_type": "markdown",
      "metadata": {
        "id": "EB1yLJOSV1gx"
      },
      "source": [
        "🔍 **Problem Statement**:\n",
        "\n",
        "Welcome to the Probability and Statistics project! 📊🔍 In this exciting journey, you'll get the chance to apply the concepts you've learned in probability theory and statistics to analyze a real-world dataset. This project is your opportunity to dive deep into the world of data analysis and gain practical experience with the tools and techniques you've been learning. 🚀\n",
        "\n",
        "🎯 **Objective**:\n",
        "\n",
        "Your mission is to analyze the provided dataset containing customer information and purchasing behavior to make informed decisions. Your goal is to identify patterns, trends, and correlations that will help your company optimize its marketing efforts and increase offer acceptance rates. 🎉"
      ]
    },
    {
      "cell_type": "markdown",
      "metadata": {
        "id": "C6I6fCk2B4W-"
      },
      "source": [
        "##About the Dataset"
      ]
    },
    {
      "cell_type": "markdown",
      "metadata": {
        "id": "E_yV1UBOAu7Z"
      },
      "source": [
        "\n",
        "\n",
        "Here's the link to the [dataset](https://docs.google.com/spreadsheets/d/12ln9iTNcVNOMYi_AU-OczKpa_KIP8XyVbsjk81Na8Yk/edit?usp=sharing)\n",
        "\n",
        "\n",
        "This data was gathered during last year's campaign.\n",
        "Data description is as follows;\n",
        "\n",
        "1. Response (target) - 1 if customer accepted the offer in the last campaign, 0 otherwise\n",
        "1. ID - Unique ID of each customer\n",
        "1. Year_Birth - Age of the customer\n",
        "1. Complain - 1 if the customer complained in the last 2 years\n",
        "1. Dt_Customer - date of customer's enrollment with the company\n",
        "1. Education - customer's level of education\n",
        "1. Marital - customer's marital status\n",
        "1. Kidhome - number of small children in customer's household\n",
        "1. Teenhome - number of teenagers in customer's household\n",
        "1. Income - customer's yearly household income\n",
        "1. MntFishProducts - the amount spent on fish products in the last 2 years\n",
        "1. MntMeatProducts - the amount spent on meat products in the last 2 years\n",
        "1. MntFruits - the amount spent on fruits products in the last 2 years\n",
        "1. MntSweetProducts - amount spent on sweet products in the last 2 years\n",
        "1. MntWines - the amount spent on wine products in the last 2 years\n",
        "1. MntGoldProds - the amount spent on gold products in the last 2 years\n",
        "1. NumDealsPurchases - number of purchases made with discount\n",
        "1. NumCatalogPurchases - number of purchases made using catalog (buying goods to be shipped through the mail)\n",
        "1. NumStorePurchases - number of purchases made directly in stores\n",
        "1. NumWebPurchases - number of purchases made through the company's website\n",
        "1. NumWebVisitsMonth - number of visits to company's website in the last month\n",
        "1. Recency - number of days since the last purchase\n",
        "\n",
        "\n",
        "\n"
      ]
    },
    {
      "cell_type": "markdown",
      "metadata": {
        "id": "HNjRqBCzXQww"
      },
      "source": [
        "##Task 1 - Basic CleanUp\n",
        "\n",
        "- **Clean and preprocess the dataset (handling missing values, data types, etc.).**\n",
        "\n",
        "- **Analyze the distribution of customer demographics (age, education, marital status) using descriptive statistics and visualizations.**"
      ]
    },
    {
      "cell_type": "markdown",
      "metadata": {},
      "source": [
        "\n",
        "\n",
        "**Deliverables**:\n",
        "\n",
        "- **Cleaned and Preprocessed Dataset**:\n",
        "\n",
        "  Provide a detailed report on the steps taken to handle missing values, including imputation methods used if applicable.\n",
        "  Document the process of ensuring consistent data types for each variable, addressing any inconsistencies.\n",
        "\n",
        "- **Summary of Basic Statistics**:\n",
        "\n",
        "  Present calculated statistics such as mean, median, variance, and standard deviation for each relevant numerical variable.\n",
        "  Include a concise table or summary showcasing these measures for easy reference."
      ]
    },
    {
      "cell_type": "markdown",
      "metadata": {},
      "source": [
        "TASK 1 SOLUTION..."
      ]
    },
    {
      "cell_type": "code",
      "execution_count": 1,
      "metadata": {},
      "outputs": [
        {
          "data": {
            "text/html": [
              "<div>\n",
              "<style scoped>\n",
              "    .dataframe tbody tr th:only-of-type {\n",
              "        vertical-align: middle;\n",
              "    }\n",
              "\n",
              "    .dataframe tbody tr th {\n",
              "        vertical-align: top;\n",
              "    }\n",
              "\n",
              "    .dataframe thead th {\n",
              "        text-align: right;\n",
              "    }\n",
              "</style>\n",
              "<table border=\"1\" class=\"dataframe\">\n",
              "  <thead>\n",
              "    <tr style=\"text-align: right;\">\n",
              "      <th></th>\n",
              "      <th>Id</th>\n",
              "      <th>Year_Birth</th>\n",
              "      <th>Education</th>\n",
              "      <th>Marital_Status</th>\n",
              "      <th>Income</th>\n",
              "      <th>Kidhome</th>\n",
              "      <th>Teenhome</th>\n",
              "      <th>Dt_Customer</th>\n",
              "      <th>Recency</th>\n",
              "      <th>MntWines</th>\n",
              "      <th>...</th>\n",
              "      <th>MntFishProducts</th>\n",
              "      <th>MntSweetProducts</th>\n",
              "      <th>MntGoldProds</th>\n",
              "      <th>NumDealsPurchases</th>\n",
              "      <th>NumWebPurchases</th>\n",
              "      <th>NumCatalogPurchases</th>\n",
              "      <th>NumStorePurchases</th>\n",
              "      <th>NumWebVisitsMonth</th>\n",
              "      <th>Response</th>\n",
              "      <th>Complain</th>\n",
              "    </tr>\n",
              "  </thead>\n",
              "  <tbody>\n",
              "    <tr>\n",
              "      <th>0</th>\n",
              "      <td>1826</td>\n",
              "      <td>1970</td>\n",
              "      <td>Graduation</td>\n",
              "      <td>Divorced</td>\n",
              "      <td>84835.0</td>\n",
              "      <td>0</td>\n",
              "      <td>0</td>\n",
              "      <td>6/16/2014</td>\n",
              "      <td>0</td>\n",
              "      <td>189</td>\n",
              "      <td>...</td>\n",
              "      <td>111</td>\n",
              "      <td>189</td>\n",
              "      <td>218</td>\n",
              "      <td>1</td>\n",
              "      <td>4</td>\n",
              "      <td>4</td>\n",
              "      <td>6</td>\n",
              "      <td>1</td>\n",
              "      <td>1</td>\n",
              "      <td>0</td>\n",
              "    </tr>\n",
              "    <tr>\n",
              "      <th>1</th>\n",
              "      <td>1</td>\n",
              "      <td>1961</td>\n",
              "      <td>Graduation</td>\n",
              "      <td>Single</td>\n",
              "      <td>57091.0</td>\n",
              "      <td>0</td>\n",
              "      <td>0</td>\n",
              "      <td>6/15/2014</td>\n",
              "      <td>0</td>\n",
              "      <td>464</td>\n",
              "      <td>...</td>\n",
              "      <td>7</td>\n",
              "      <td>0</td>\n",
              "      <td>37</td>\n",
              "      <td>1</td>\n",
              "      <td>7</td>\n",
              "      <td>3</td>\n",
              "      <td>7</td>\n",
              "      <td>5</td>\n",
              "      <td>1</td>\n",
              "      <td>0</td>\n",
              "    </tr>\n",
              "    <tr>\n",
              "      <th>2</th>\n",
              "      <td>10476</td>\n",
              "      <td>1958</td>\n",
              "      <td>Graduation</td>\n",
              "      <td>Married</td>\n",
              "      <td>67267.0</td>\n",
              "      <td>0</td>\n",
              "      <td>1</td>\n",
              "      <td>5/13/2014</td>\n",
              "      <td>0</td>\n",
              "      <td>134</td>\n",
              "      <td>...</td>\n",
              "      <td>15</td>\n",
              "      <td>2</td>\n",
              "      <td>30</td>\n",
              "      <td>1</td>\n",
              "      <td>3</td>\n",
              "      <td>2</td>\n",
              "      <td>5</td>\n",
              "      <td>2</td>\n",
              "      <td>0</td>\n",
              "      <td>0</td>\n",
              "    </tr>\n",
              "    <tr>\n",
              "      <th>3</th>\n",
              "      <td>1386</td>\n",
              "      <td>1967</td>\n",
              "      <td>Graduation</td>\n",
              "      <td>Together</td>\n",
              "      <td>32474.0</td>\n",
              "      <td>1</td>\n",
              "      <td>1</td>\n",
              "      <td>########</td>\n",
              "      <td>0</td>\n",
              "      <td>10</td>\n",
              "      <td>...</td>\n",
              "      <td>0</td>\n",
              "      <td>0</td>\n",
              "      <td>0</td>\n",
              "      <td>1</td>\n",
              "      <td>1</td>\n",
              "      <td>0</td>\n",
              "      <td>2</td>\n",
              "      <td>7</td>\n",
              "      <td>0</td>\n",
              "      <td>0</td>\n",
              "    </tr>\n",
              "    <tr>\n",
              "      <th>4</th>\n",
              "      <td>5371</td>\n",
              "      <td>1989</td>\n",
              "      <td>Graduation</td>\n",
              "      <td>Single</td>\n",
              "      <td>21474.0</td>\n",
              "      <td>1</td>\n",
              "      <td>0</td>\n",
              "      <td>########</td>\n",
              "      <td>0</td>\n",
              "      <td>6</td>\n",
              "      <td>...</td>\n",
              "      <td>11</td>\n",
              "      <td>0</td>\n",
              "      <td>34</td>\n",
              "      <td>2</td>\n",
              "      <td>3</td>\n",
              "      <td>1</td>\n",
              "      <td>2</td>\n",
              "      <td>7</td>\n",
              "      <td>1</td>\n",
              "      <td>0</td>\n",
              "    </tr>\n",
              "  </tbody>\n",
              "</table>\n",
              "<p>5 rows × 22 columns</p>\n",
              "</div>"
            ],
            "text/plain": [
              "      Id  Year_Birth   Education Marital_Status   Income  Kidhome  Teenhome  \\\n",
              "0   1826        1970  Graduation       Divorced  84835.0        0         0   \n",
              "1      1        1961  Graduation         Single  57091.0        0         0   \n",
              "2  10476        1958  Graduation        Married  67267.0        0         1   \n",
              "3   1386        1967  Graduation       Together  32474.0        1         1   \n",
              "4   5371        1989  Graduation         Single  21474.0        1         0   \n",
              "\n",
              "  Dt_Customer  Recency  MntWines  ...  MntFishProducts  MntSweetProducts  \\\n",
              "0   6/16/2014        0       189  ...              111               189   \n",
              "1   6/15/2014        0       464  ...                7                 0   \n",
              "2   5/13/2014        0       134  ...               15                 2   \n",
              "3    ########        0        10  ...                0                 0   \n",
              "4    ########        0         6  ...               11                 0   \n",
              "\n",
              "   MntGoldProds  NumDealsPurchases  NumWebPurchases  NumCatalogPurchases  \\\n",
              "0           218                  1                4                    4   \n",
              "1            37                  1                7                    3   \n",
              "2            30                  1                3                    2   \n",
              "3             0                  1                1                    0   \n",
              "4            34                  2                3                    1   \n",
              "\n",
              "   NumStorePurchases  NumWebVisitsMonth  Response  Complain  \n",
              "0                  6                  1         1         0  \n",
              "1                  7                  5         1         0  \n",
              "2                  5                  2         0         0  \n",
              "3                  2                  7         0         0  \n",
              "4                  2                  7         1         0  \n",
              "\n",
              "[5 rows x 22 columns]"
            ]
          },
          "execution_count": 1,
          "metadata": {},
          "output_type": "execute_result"
        }
      ],
      "source": [
        "# Reading Dataset.\n",
        "\n",
        "import pandas as pd\n",
        "\n",
        "data=pd.read_csv(\"Superstore_Marketing_Data.csv\")\n",
        "data.head(5) # overview of data\n"
      ]
    },
    {
      "cell_type": "code",
      "execution_count": 2,
      "metadata": {},
      "outputs": [
        {
          "name": "stdout",
          "output_type": "stream",
          "text": [
            "dataset contains 2240 records\n",
            "and 22 columns\n"
          ]
        }
      ],
      "source": [
        "print(f\"dataset contains {data.shape[0]} records\\nand {data.shape[1]} columns\")"
      ]
    },
    {
      "cell_type": "code",
      "execution_count": null,
      "metadata": {},
      "outputs": [],
      "source": []
    },
    {
      "cell_type": "code",
      "execution_count": 3,
      "metadata": {},
      "outputs": [
        {
          "data": {
            "text/plain": [
              "Id                       int64\n",
              "Year_Birth               int64\n",
              "Education               object\n",
              "Marital_Status          object\n",
              "Income                 float64\n",
              "Kidhome                  int64\n",
              "Teenhome                 int64\n",
              "Dt_Customer             object\n",
              "Recency                  int64\n",
              "MntWines                 int64\n",
              "MntFruits                int64\n",
              "MntMeatProducts          int64\n",
              "MntFishProducts          int64\n",
              "MntSweetProducts         int64\n",
              "MntGoldProds             int64\n",
              "NumDealsPurchases        int64\n",
              "NumWebPurchases          int64\n",
              "NumCatalogPurchases      int64\n",
              "NumStorePurchases        int64\n",
              "NumWebVisitsMonth        int64\n",
              "Response                 int64\n",
              "Complain                 int64\n",
              "dtype: object"
            ]
          },
          "execution_count": 3,
          "metadata": {},
          "output_type": "execute_result"
        }
      ],
      "source": [
        "data.dtypes # Checking datatype of each columns.\n",
        "# Need to convert Dt_Customer column datatype to date from object."
      ]
    },
    {
      "cell_type": "code",
      "execution_count": null,
      "metadata": {},
      "outputs": [],
      "source": []
    },
    {
      "cell_type": "code",
      "execution_count": null,
      "metadata": {},
      "outputs": [],
      "source": []
    },
    {
      "cell_type": "markdown",
      "metadata": {},
      "source": [
        "now what i want is calculate the mean income of all category present in Education column and then replace that category mean in null income with respect to it's Education"
      ]
    },
    {
      "cell_type": "code",
      "execution_count": 4,
      "metadata": {},
      "outputs": [
        {
          "name": "stdout",
          "output_type": "stream",
          "text": [
            "['Graduation' 'PhD' '2n Cycle' 'Master' 'Basic']\n"
          ]
        }
      ],
      "source": [
        "\n",
        "e_unique=data['Education'].unique()  # here getting all categories \n",
        "print(e_unique)\n",
        "\n",
        "education_mean_income = data.groupby('Education')['Income'].mean() # it will return a mean income of each categories in Education.\n",
        "\n",
        "def fill_income(row):                    # here in this func we are replacing a particular null values with the mean of respective Education column.\n",
        "    if pd.isnull(row['Income']):\n",
        "        return education_mean_income[row['Education']]\n",
        "    else:\n",
        "        return row['Income']\n",
        "\n",
        "data['Income'] = data.apply(fill_income, axis=1) # Applying function to that Income column."
      ]
    },
    {
      "cell_type": "code",
      "execution_count": 5,
      "metadata": {},
      "outputs": [
        {
          "data": {
            "text/plain": [
              "(2240, 22)"
            ]
          },
          "execution_count": 5,
          "metadata": {},
          "output_type": "execute_result"
        }
      ],
      "source": [
        "data.shape"
      ]
    },
    {
      "cell_type": "code",
      "execution_count": 6,
      "metadata": {},
      "outputs": [
        {
          "data": {
            "text/html": [
              "<div>\n",
              "<style scoped>\n",
              "    .dataframe tbody tr th:only-of-type {\n",
              "        vertical-align: middle;\n",
              "    }\n",
              "\n",
              "    .dataframe tbody tr th {\n",
              "        vertical-align: top;\n",
              "    }\n",
              "\n",
              "    .dataframe thead th {\n",
              "        text-align: right;\n",
              "    }\n",
              "</style>\n",
              "<table border=\"1\" class=\"dataframe\">\n",
              "  <thead>\n",
              "    <tr style=\"text-align: right;\">\n",
              "      <th></th>\n",
              "      <th>Id</th>\n",
              "      <th>Year_Birth</th>\n",
              "      <th>Education</th>\n",
              "      <th>Marital_Status</th>\n",
              "      <th>Income</th>\n",
              "      <th>Kidhome</th>\n",
              "      <th>Teenhome</th>\n",
              "      <th>Dt_Customer</th>\n",
              "      <th>Recency</th>\n",
              "      <th>MntWines</th>\n",
              "      <th>...</th>\n",
              "      <th>MntFishProducts</th>\n",
              "      <th>MntSweetProducts</th>\n",
              "      <th>MntGoldProds</th>\n",
              "      <th>NumDealsPurchases</th>\n",
              "      <th>NumWebPurchases</th>\n",
              "      <th>NumCatalogPurchases</th>\n",
              "      <th>NumStorePurchases</th>\n",
              "      <th>NumWebVisitsMonth</th>\n",
              "      <th>Response</th>\n",
              "      <th>Complain</th>\n",
              "    </tr>\n",
              "  </thead>\n",
              "  <tbody>\n",
              "    <tr>\n",
              "      <th>0</th>\n",
              "      <td>1826</td>\n",
              "      <td>1970</td>\n",
              "      <td>Graduation</td>\n",
              "      <td>Divorced</td>\n",
              "      <td>84835.0</td>\n",
              "      <td>0</td>\n",
              "      <td>0</td>\n",
              "      <td>6/16/2014</td>\n",
              "      <td>0</td>\n",
              "      <td>189</td>\n",
              "      <td>...</td>\n",
              "      <td>111</td>\n",
              "      <td>189</td>\n",
              "      <td>218</td>\n",
              "      <td>1</td>\n",
              "      <td>4</td>\n",
              "      <td>4</td>\n",
              "      <td>6</td>\n",
              "      <td>1</td>\n",
              "      <td>1</td>\n",
              "      <td>0</td>\n",
              "    </tr>\n",
              "    <tr>\n",
              "      <th>1</th>\n",
              "      <td>1</td>\n",
              "      <td>1961</td>\n",
              "      <td>Graduation</td>\n",
              "      <td>Single</td>\n",
              "      <td>57091.0</td>\n",
              "      <td>0</td>\n",
              "      <td>0</td>\n",
              "      <td>6/15/2014</td>\n",
              "      <td>0</td>\n",
              "      <td>464</td>\n",
              "      <td>...</td>\n",
              "      <td>7</td>\n",
              "      <td>0</td>\n",
              "      <td>37</td>\n",
              "      <td>1</td>\n",
              "      <td>7</td>\n",
              "      <td>3</td>\n",
              "      <td>7</td>\n",
              "      <td>5</td>\n",
              "      <td>1</td>\n",
              "      <td>0</td>\n",
              "    </tr>\n",
              "    <tr>\n",
              "      <th>2</th>\n",
              "      <td>10476</td>\n",
              "      <td>1958</td>\n",
              "      <td>Graduation</td>\n",
              "      <td>Married</td>\n",
              "      <td>67267.0</td>\n",
              "      <td>0</td>\n",
              "      <td>1</td>\n",
              "      <td>5/13/2014</td>\n",
              "      <td>0</td>\n",
              "      <td>134</td>\n",
              "      <td>...</td>\n",
              "      <td>15</td>\n",
              "      <td>2</td>\n",
              "      <td>30</td>\n",
              "      <td>1</td>\n",
              "      <td>3</td>\n",
              "      <td>2</td>\n",
              "      <td>5</td>\n",
              "      <td>2</td>\n",
              "      <td>0</td>\n",
              "      <td>0</td>\n",
              "    </tr>\n",
              "    <tr>\n",
              "      <th>3</th>\n",
              "      <td>1386</td>\n",
              "      <td>1967</td>\n",
              "      <td>Graduation</td>\n",
              "      <td>Together</td>\n",
              "      <td>32474.0</td>\n",
              "      <td>1</td>\n",
              "      <td>1</td>\n",
              "      <td>########</td>\n",
              "      <td>0</td>\n",
              "      <td>10</td>\n",
              "      <td>...</td>\n",
              "      <td>0</td>\n",
              "      <td>0</td>\n",
              "      <td>0</td>\n",
              "      <td>1</td>\n",
              "      <td>1</td>\n",
              "      <td>0</td>\n",
              "      <td>2</td>\n",
              "      <td>7</td>\n",
              "      <td>0</td>\n",
              "      <td>0</td>\n",
              "    </tr>\n",
              "    <tr>\n",
              "      <th>4</th>\n",
              "      <td>5371</td>\n",
              "      <td>1989</td>\n",
              "      <td>Graduation</td>\n",
              "      <td>Single</td>\n",
              "      <td>21474.0</td>\n",
              "      <td>1</td>\n",
              "      <td>0</td>\n",
              "      <td>########</td>\n",
              "      <td>0</td>\n",
              "      <td>6</td>\n",
              "      <td>...</td>\n",
              "      <td>11</td>\n",
              "      <td>0</td>\n",
              "      <td>34</td>\n",
              "      <td>2</td>\n",
              "      <td>3</td>\n",
              "      <td>1</td>\n",
              "      <td>2</td>\n",
              "      <td>7</td>\n",
              "      <td>1</td>\n",
              "      <td>0</td>\n",
              "    </tr>\n",
              "    <tr>\n",
              "      <th>...</th>\n",
              "      <td>...</td>\n",
              "      <td>...</td>\n",
              "      <td>...</td>\n",
              "      <td>...</td>\n",
              "      <td>...</td>\n",
              "      <td>...</td>\n",
              "      <td>...</td>\n",
              "      <td>...</td>\n",
              "      <td>...</td>\n",
              "      <td>...</td>\n",
              "      <td>...</td>\n",
              "      <td>...</td>\n",
              "      <td>...</td>\n",
              "      <td>...</td>\n",
              "      <td>...</td>\n",
              "      <td>...</td>\n",
              "      <td>...</td>\n",
              "      <td>...</td>\n",
              "      <td>...</td>\n",
              "      <td>...</td>\n",
              "      <td>...</td>\n",
              "    </tr>\n",
              "    <tr>\n",
              "      <th>2235</th>\n",
              "      <td>10142</td>\n",
              "      <td>1976</td>\n",
              "      <td>PhD</td>\n",
              "      <td>Divorced</td>\n",
              "      <td>66476.0</td>\n",
              "      <td>0</td>\n",
              "      <td>1</td>\n",
              "      <td>########</td>\n",
              "      <td>99</td>\n",
              "      <td>372</td>\n",
              "      <td>...</td>\n",
              "      <td>47</td>\n",
              "      <td>48</td>\n",
              "      <td>78</td>\n",
              "      <td>2</td>\n",
              "      <td>5</td>\n",
              "      <td>2</td>\n",
              "      <td>11</td>\n",
              "      <td>4</td>\n",
              "      <td>0</td>\n",
              "      <td>0</td>\n",
              "    </tr>\n",
              "    <tr>\n",
              "      <th>2236</th>\n",
              "      <td>5263</td>\n",
              "      <td>1977</td>\n",
              "      <td>2n Cycle</td>\n",
              "      <td>Married</td>\n",
              "      <td>31056.0</td>\n",
              "      <td>1</td>\n",
              "      <td>0</td>\n",
              "      <td>1/22/2013</td>\n",
              "      <td>99</td>\n",
              "      <td>5</td>\n",
              "      <td>...</td>\n",
              "      <td>3</td>\n",
              "      <td>8</td>\n",
              "      <td>16</td>\n",
              "      <td>1</td>\n",
              "      <td>1</td>\n",
              "      <td>0</td>\n",
              "      <td>3</td>\n",
              "      <td>8</td>\n",
              "      <td>0</td>\n",
              "      <td>0</td>\n",
              "    </tr>\n",
              "    <tr>\n",
              "      <th>2237</th>\n",
              "      <td>22</td>\n",
              "      <td>1976</td>\n",
              "      <td>Graduation</td>\n",
              "      <td>Divorced</td>\n",
              "      <td>46310.0</td>\n",
              "      <td>1</td>\n",
              "      <td>0</td>\n",
              "      <td>########</td>\n",
              "      <td>99</td>\n",
              "      <td>185</td>\n",
              "      <td>...</td>\n",
              "      <td>15</td>\n",
              "      <td>5</td>\n",
              "      <td>14</td>\n",
              "      <td>2</td>\n",
              "      <td>6</td>\n",
              "      <td>1</td>\n",
              "      <td>5</td>\n",
              "      <td>8</td>\n",
              "      <td>0</td>\n",
              "      <td>0</td>\n",
              "    </tr>\n",
              "    <tr>\n",
              "      <th>2238</th>\n",
              "      <td>528</td>\n",
              "      <td>1978</td>\n",
              "      <td>Graduation</td>\n",
              "      <td>Married</td>\n",
              "      <td>65819.0</td>\n",
              "      <td>0</td>\n",
              "      <td>0</td>\n",
              "      <td>11/29/2012</td>\n",
              "      <td>99</td>\n",
              "      <td>267</td>\n",
              "      <td>...</td>\n",
              "      <td>149</td>\n",
              "      <td>165</td>\n",
              "      <td>63</td>\n",
              "      <td>1</td>\n",
              "      <td>5</td>\n",
              "      <td>4</td>\n",
              "      <td>10</td>\n",
              "      <td>3</td>\n",
              "      <td>0</td>\n",
              "      <td>0</td>\n",
              "    </tr>\n",
              "    <tr>\n",
              "      <th>2239</th>\n",
              "      <td>4070</td>\n",
              "      <td>1969</td>\n",
              "      <td>PhD</td>\n",
              "      <td>Married</td>\n",
              "      <td>94871.0</td>\n",
              "      <td>0</td>\n",
              "      <td>2</td>\n",
              "      <td>########</td>\n",
              "      <td>99</td>\n",
              "      <td>169</td>\n",
              "      <td>...</td>\n",
              "      <td>188</td>\n",
              "      <td>0</td>\n",
              "      <td>144</td>\n",
              "      <td>1</td>\n",
              "      <td>8</td>\n",
              "      <td>5</td>\n",
              "      <td>4</td>\n",
              "      <td>7</td>\n",
              "      <td>1</td>\n",
              "      <td>0</td>\n",
              "    </tr>\n",
              "  </tbody>\n",
              "</table>\n",
              "<p>2240 rows × 22 columns</p>\n",
              "</div>"
            ],
            "text/plain": [
              "         Id  Year_Birth   Education Marital_Status   Income  Kidhome  \\\n",
              "0      1826        1970  Graduation       Divorced  84835.0        0   \n",
              "1         1        1961  Graduation         Single  57091.0        0   \n",
              "2     10476        1958  Graduation        Married  67267.0        0   \n",
              "3      1386        1967  Graduation       Together  32474.0        1   \n",
              "4      5371        1989  Graduation         Single  21474.0        1   \n",
              "...     ...         ...         ...            ...      ...      ...   \n",
              "2235  10142        1976         PhD       Divorced  66476.0        0   \n",
              "2236   5263        1977    2n Cycle        Married  31056.0        1   \n",
              "2237     22        1976  Graduation       Divorced  46310.0        1   \n",
              "2238    528        1978  Graduation        Married  65819.0        0   \n",
              "2239   4070        1969         PhD        Married  94871.0        0   \n",
              "\n",
              "      Teenhome Dt_Customer  Recency  MntWines  ...  MntFishProducts  \\\n",
              "0            0   6/16/2014        0       189  ...              111   \n",
              "1            0   6/15/2014        0       464  ...                7   \n",
              "2            1   5/13/2014        0       134  ...               15   \n",
              "3            1    ########        0        10  ...                0   \n",
              "4            0    ########        0         6  ...               11   \n",
              "...        ...         ...      ...       ...  ...              ...   \n",
              "2235         1    ########       99       372  ...               47   \n",
              "2236         0   1/22/2013       99         5  ...                3   \n",
              "2237         0    ########       99       185  ...               15   \n",
              "2238         0  11/29/2012       99       267  ...              149   \n",
              "2239         2    ########       99       169  ...              188   \n",
              "\n",
              "      MntSweetProducts  MntGoldProds  NumDealsPurchases  NumWebPurchases  \\\n",
              "0                  189           218                  1                4   \n",
              "1                    0            37                  1                7   \n",
              "2                    2            30                  1                3   \n",
              "3                    0             0                  1                1   \n",
              "4                    0            34                  2                3   \n",
              "...                ...           ...                ...              ...   \n",
              "2235                48            78                  2                5   \n",
              "2236                 8            16                  1                1   \n",
              "2237                 5            14                  2                6   \n",
              "2238               165            63                  1                5   \n",
              "2239                 0           144                  1                8   \n",
              "\n",
              "      NumCatalogPurchases  NumStorePurchases  NumWebVisitsMonth  Response  \\\n",
              "0                       4                  6                  1         1   \n",
              "1                       3                  7                  5         1   \n",
              "2                       2                  5                  2         0   \n",
              "3                       0                  2                  7         0   \n",
              "4                       1                  2                  7         1   \n",
              "...                   ...                ...                ...       ...   \n",
              "2235                    2                 11                  4         0   \n",
              "2236                    0                  3                  8         0   \n",
              "2237                    1                  5                  8         0   \n",
              "2238                    4                 10                  3         0   \n",
              "2239                    5                  4                  7         1   \n",
              "\n",
              "      Complain  \n",
              "0            0  \n",
              "1            0  \n",
              "2            0  \n",
              "3            0  \n",
              "4            0  \n",
              "...        ...  \n",
              "2235         0  \n",
              "2236         0  \n",
              "2237         0  \n",
              "2238         0  \n",
              "2239         0  \n",
              "\n",
              "[2240 rows x 22 columns]"
            ]
          },
          "execution_count": 6,
          "metadata": {},
          "output_type": "execute_result"
        }
      ],
      "source": [
        "data"
      ]
    },
    {
      "cell_type": "code",
      "execution_count": 7,
      "metadata": {},
      "outputs": [
        {
          "data": {
            "text/plain": [
              "Id                     0\n",
              "Year_Birth             0\n",
              "Education              0\n",
              "Marital_Status         0\n",
              "Income                 0\n",
              "Kidhome                0\n",
              "Teenhome               0\n",
              "Dt_Customer            0\n",
              "Recency                0\n",
              "MntWines               0\n",
              "MntFruits              0\n",
              "MntMeatProducts        0\n",
              "MntFishProducts        0\n",
              "MntSweetProducts       0\n",
              "MntGoldProds           0\n",
              "NumDealsPurchases      0\n",
              "NumWebPurchases        0\n",
              "NumCatalogPurchases    0\n",
              "NumStorePurchases      0\n",
              "NumWebVisitsMonth      0\n",
              "Response               0\n",
              "Complain               0\n",
              "dtype: int64"
            ]
          },
          "execution_count": 7,
          "metadata": {},
          "output_type": "execute_result"
        }
      ],
      "source": [
        "data.isnull().sum() # checking null values after mainupulation."
      ]
    },
    {
      "cell_type": "code",
      "execution_count": 8,
      "metadata": {},
      "outputs": [
        {
          "name": "stdout",
          "output_type": "stream",
          "text": [
            "Number of duplicate rows: 0\n"
          ]
        }
      ],
      "source": [
        "# Check for duplicate rows\n",
        "duplicate_rows = data.duplicated().sum()\n",
        "print(\"Number of duplicate rows:\", duplicate_rows)\n"
      ]
    },
    {
      "cell_type": "code",
      "execution_count": 9,
      "metadata": {},
      "outputs": [
        {
          "data": {
            "text/plain": [
              "<bound method Series.unique of 0        6/16/2014\n",
              "1        6/15/2014\n",
              "2        5/13/2014\n",
              "3         ########\n",
              "4         ########\n",
              "           ...    \n",
              "2235      ########\n",
              "2236     1/22/2013\n",
              "2237      ########\n",
              "2238    11/29/2012\n",
              "2239      ########\n",
              "Name: Dt_Customer, Length: 2240, dtype: object>"
            ]
          },
          "execution_count": 9,
          "metadata": {},
          "output_type": "execute_result"
        }
      ],
      "source": [
        "# In Dt_Customer we found that their are some dates with this value ######## we have to mainupulate it.\n",
        "data['Dt_Customer'].unique"
      ]
    },
    {
      "cell_type": "code",
      "execution_count": 10,
      "metadata": {},
      "outputs": [
        {
          "data": {
            "text/plain": [
              "916"
            ]
          },
          "execution_count": 10,
          "metadata": {},
          "output_type": "execute_result"
        }
      ],
      "source": [
        "len(data[data['Dt_Customer']==\"########\"]) # their are 916 records who have this value ######## "
      ]
    },
    {
      "cell_type": "code",
      "execution_count": 11,
      "metadata": {},
      "outputs": [],
      "source": [
        "#imputing with a placeholder date that won't skew the analysis but allows you to retain the information that a customer has enrolled, even if the exact date is unknown.\n",
        "\n",
        "data['Dt_Customer'] = data['Dt_Customer'].replace('########', '2024-01-01')\n"
      ]
    },
    {
      "cell_type": "code",
      "execution_count": 12,
      "metadata": {},
      "outputs": [
        {
          "name": "stdout",
          "output_type": "stream",
          "text": [
            "object\n"
          ]
        }
      ],
      "source": [
        "# converting all dates to a perticular format ==> \n",
        "from dateutil import parser\n",
        "\n",
        "# Function to parse dates and return date part only\n",
        "def parse_date(date_str):\n",
        "    try:\n",
        "        parsed_date = parser.parse(date_str)\n",
        "        return parsed_date.strftime('%Y-%m-%d')  # Format date as 'YYYY-MM-DD'\n",
        "    except:\n",
        "        return None\n",
        "\n",
        "# Apply the parse_date function to the 'Dt_Customer' column\n",
        "data['Dt_Customer'] = data['Dt_Customer'].apply(parse_date)\n",
        "\n",
        "# Now 'Dt_Customer' column is converted to date data type with date part only\n",
        "print(data['Dt_Customer'].dtypes)\n"
      ]
    },
    {
      "cell_type": "code",
      "execution_count": 13,
      "metadata": {},
      "outputs": [
        {
          "data": {
            "text/plain": [
              "0       2014-06-16\n",
              "1       2014-06-15\n",
              "2       2014-05-13\n",
              "3       2024-01-01\n",
              "4       2024-01-01\n",
              "           ...    \n",
              "2235    2024-01-01\n",
              "2236    2013-01-22\n",
              "2237    2024-01-01\n",
              "2238    2012-11-29\n",
              "2239    2024-01-01\n",
              "Name: Dt_Customer, Length: 2240, dtype: object"
            ]
          },
          "execution_count": 13,
          "metadata": {},
          "output_type": "execute_result"
        }
      ],
      "source": [
        "data['Dt_Customer']"
      ]
    },
    {
      "cell_type": "code",
      "execution_count": 14,
      "metadata": {},
      "outputs": [],
      "source": [
        "l=[]\n",
        "for i in data['Dt_Customer']:\n",
        "    l.append(len(i))               # suring that all date have same length or not means no extra char or spacing\n",
        "\n",
        "if set(l)==10:\n",
        "    data['Dt_Customer'] = pd.to_datetime(data['Dt_Customer'], format='%Y-%m-%d') # converting object to date datatype."
      ]
    },
    {
      "cell_type": "code",
      "execution_count": 15,
      "metadata": {},
      "outputs": [
        {
          "data": {
            "text/plain": [
              "Id                              int64\n",
              "Year_Birth                      int64\n",
              "Education                      object\n",
              "Marital_Status                 object\n",
              "Income                        float64\n",
              "Kidhome                         int64\n",
              "Teenhome                        int64\n",
              "Dt_Customer            datetime64[ns]\n",
              "Recency                         int64\n",
              "MntWines                        int64\n",
              "MntFruits                       int64\n",
              "MntMeatProducts                 int64\n",
              "MntFishProducts                 int64\n",
              "MntSweetProducts                int64\n",
              "MntGoldProds                    int64\n",
              "NumDealsPurchases               int64\n",
              "NumWebPurchases                 int64\n",
              "NumCatalogPurchases             int64\n",
              "NumStorePurchases               int64\n",
              "NumWebVisitsMonth               int64\n",
              "Response                        int64\n",
              "Complain                        int64\n",
              "dtype: object"
            ]
          },
          "execution_count": 15,
          "metadata": {},
          "output_type": "execute_result"
        }
      ],
      "source": [
        "data['Dt_Customer'] = pd.to_datetime(data['Dt_Customer'], format='%Y-%m-%d')\n",
        "data.dtypes"
      ]
    },
    {
      "cell_type": "markdown",
      "metadata": {},
      "source": [
        "**descriptive statistics and visualizations.**"
      ]
    },
    {
      "cell_type": "code",
      "execution_count": 16,
      "metadata": {},
      "outputs": [
        {
          "data": {
            "text/html": [
              "<div>\n",
              "<style scoped>\n",
              "    .dataframe tbody tr th:only-of-type {\n",
              "        vertical-align: middle;\n",
              "    }\n",
              "\n",
              "    .dataframe tbody tr th {\n",
              "        vertical-align: top;\n",
              "    }\n",
              "\n",
              "    .dataframe thead th {\n",
              "        text-align: right;\n",
              "    }\n",
              "</style>\n",
              "<table border=\"1\" class=\"dataframe\">\n",
              "  <thead>\n",
              "    <tr style=\"text-align: right;\">\n",
              "      <th></th>\n",
              "      <th>count</th>\n",
              "      <th>unique</th>\n",
              "      <th>top</th>\n",
              "      <th>freq</th>\n",
              "      <th>mean</th>\n",
              "      <th>min</th>\n",
              "      <th>25%</th>\n",
              "      <th>50%</th>\n",
              "      <th>75%</th>\n",
              "      <th>max</th>\n",
              "      <th>std</th>\n",
              "    </tr>\n",
              "  </thead>\n",
              "  <tbody>\n",
              "    <tr>\n",
              "      <th>Id</th>\n",
              "      <td>2240.0</td>\n",
              "      <td>NaN</td>\n",
              "      <td>NaN</td>\n",
              "      <td>NaN</td>\n",
              "      <td>5592.159821</td>\n",
              "      <td>0.0</td>\n",
              "      <td>2828.25</td>\n",
              "      <td>5458.5</td>\n",
              "      <td>8427.75</td>\n",
              "      <td>11191.0</td>\n",
              "      <td>3246.662198</td>\n",
              "    </tr>\n",
              "    <tr>\n",
              "      <th>Year_Birth</th>\n",
              "      <td>2240.0</td>\n",
              "      <td>NaN</td>\n",
              "      <td>NaN</td>\n",
              "      <td>NaN</td>\n",
              "      <td>1968.805804</td>\n",
              "      <td>1893.0</td>\n",
              "      <td>1959.0</td>\n",
              "      <td>1970.0</td>\n",
              "      <td>1977.0</td>\n",
              "      <td>1996.0</td>\n",
              "      <td>11.984069</td>\n",
              "    </tr>\n",
              "    <tr>\n",
              "      <th>Education</th>\n",
              "      <td>2240</td>\n",
              "      <td>5</td>\n",
              "      <td>Graduation</td>\n",
              "      <td>1127</td>\n",
              "      <td>NaN</td>\n",
              "      <td>NaN</td>\n",
              "      <td>NaN</td>\n",
              "      <td>NaN</td>\n",
              "      <td>NaN</td>\n",
              "      <td>NaN</td>\n",
              "      <td>NaN</td>\n",
              "    </tr>\n",
              "    <tr>\n",
              "      <th>Marital_Status</th>\n",
              "      <td>2240</td>\n",
              "      <td>8</td>\n",
              "      <td>Married</td>\n",
              "      <td>864</td>\n",
              "      <td>NaN</td>\n",
              "      <td>NaN</td>\n",
              "      <td>NaN</td>\n",
              "      <td>NaN</td>\n",
              "      <td>NaN</td>\n",
              "      <td>NaN</td>\n",
              "      <td>NaN</td>\n",
              "    </tr>\n",
              "    <tr>\n",
              "      <th>Income</th>\n",
              "      <td>2240.0</td>\n",
              "      <td>NaN</td>\n",
              "      <td>NaN</td>\n",
              "      <td>NaN</td>\n",
              "      <td>52253.592375</td>\n",
              "      <td>1730.0</td>\n",
              "      <td>35538.75</td>\n",
              "      <td>51609.5</td>\n",
              "      <td>68289.75</td>\n",
              "      <td>666666.0</td>\n",
              "      <td>25039.085601</td>\n",
              "    </tr>\n",
              "    <tr>\n",
              "      <th>Kidhome</th>\n",
              "      <td>2240.0</td>\n",
              "      <td>NaN</td>\n",
              "      <td>NaN</td>\n",
              "      <td>NaN</td>\n",
              "      <td>0.444196</td>\n",
              "      <td>0.0</td>\n",
              "      <td>0.0</td>\n",
              "      <td>0.0</td>\n",
              "      <td>1.0</td>\n",
              "      <td>2.0</td>\n",
              "      <td>0.538398</td>\n",
              "    </tr>\n",
              "    <tr>\n",
              "      <th>Teenhome</th>\n",
              "      <td>2240.0</td>\n",
              "      <td>NaN</td>\n",
              "      <td>NaN</td>\n",
              "      <td>NaN</td>\n",
              "      <td>0.50625</td>\n",
              "      <td>0.0</td>\n",
              "      <td>0.0</td>\n",
              "      <td>0.0</td>\n",
              "      <td>1.0</td>\n",
              "      <td>2.0</td>\n",
              "      <td>0.544538</td>\n",
              "    </tr>\n",
              "    <tr>\n",
              "      <th>Dt_Customer</th>\n",
              "      <td>2240</td>\n",
              "      <td>NaN</td>\n",
              "      <td>NaN</td>\n",
              "      <td>NaN</td>\n",
              "      <td>2017-10-27 12:16:04.285714432</td>\n",
              "      <td>2012-07-30 00:00:00</td>\n",
              "      <td>2013-05-24 18:00:00</td>\n",
              "      <td>2014-03-23 00:00:00</td>\n",
              "      <td>2024-01-01 00:00:00</td>\n",
              "      <td>2024-01-01 00:00:00</td>\n",
              "      <td>NaN</td>\n",
              "    </tr>\n",
              "    <tr>\n",
              "      <th>Recency</th>\n",
              "      <td>2240.0</td>\n",
              "      <td>NaN</td>\n",
              "      <td>NaN</td>\n",
              "      <td>NaN</td>\n",
              "      <td>49.109375</td>\n",
              "      <td>0.0</td>\n",
              "      <td>24.0</td>\n",
              "      <td>49.0</td>\n",
              "      <td>74.0</td>\n",
              "      <td>99.0</td>\n",
              "      <td>28.962453</td>\n",
              "    </tr>\n",
              "    <tr>\n",
              "      <th>MntWines</th>\n",
              "      <td>2240.0</td>\n",
              "      <td>NaN</td>\n",
              "      <td>NaN</td>\n",
              "      <td>NaN</td>\n",
              "      <td>303.935714</td>\n",
              "      <td>0.0</td>\n",
              "      <td>23.75</td>\n",
              "      <td>173.5</td>\n",
              "      <td>504.25</td>\n",
              "      <td>1493.0</td>\n",
              "      <td>336.597393</td>\n",
              "    </tr>\n",
              "    <tr>\n",
              "      <th>MntFruits</th>\n",
              "      <td>2240.0</td>\n",
              "      <td>NaN</td>\n",
              "      <td>NaN</td>\n",
              "      <td>NaN</td>\n",
              "      <td>26.302232</td>\n",
              "      <td>0.0</td>\n",
              "      <td>1.0</td>\n",
              "      <td>8.0</td>\n",
              "      <td>33.0</td>\n",
              "      <td>199.0</td>\n",
              "      <td>39.773434</td>\n",
              "    </tr>\n",
              "    <tr>\n",
              "      <th>MntMeatProducts</th>\n",
              "      <td>2240.0</td>\n",
              "      <td>NaN</td>\n",
              "      <td>NaN</td>\n",
              "      <td>NaN</td>\n",
              "      <td>166.95</td>\n",
              "      <td>0.0</td>\n",
              "      <td>16.0</td>\n",
              "      <td>67.0</td>\n",
              "      <td>232.0</td>\n",
              "      <td>1725.0</td>\n",
              "      <td>225.715373</td>\n",
              "    </tr>\n",
              "    <tr>\n",
              "      <th>MntFishProducts</th>\n",
              "      <td>2240.0</td>\n",
              "      <td>NaN</td>\n",
              "      <td>NaN</td>\n",
              "      <td>NaN</td>\n",
              "      <td>37.525446</td>\n",
              "      <td>0.0</td>\n",
              "      <td>3.0</td>\n",
              "      <td>12.0</td>\n",
              "      <td>50.0</td>\n",
              "      <td>259.0</td>\n",
              "      <td>54.628979</td>\n",
              "    </tr>\n",
              "    <tr>\n",
              "      <th>MntSweetProducts</th>\n",
              "      <td>2240.0</td>\n",
              "      <td>NaN</td>\n",
              "      <td>NaN</td>\n",
              "      <td>NaN</td>\n",
              "      <td>27.062946</td>\n",
              "      <td>0.0</td>\n",
              "      <td>1.0</td>\n",
              "      <td>8.0</td>\n",
              "      <td>33.0</td>\n",
              "      <td>263.0</td>\n",
              "      <td>41.280498</td>\n",
              "    </tr>\n",
              "    <tr>\n",
              "      <th>MntGoldProds</th>\n",
              "      <td>2240.0</td>\n",
              "      <td>NaN</td>\n",
              "      <td>NaN</td>\n",
              "      <td>NaN</td>\n",
              "      <td>44.021875</td>\n",
              "      <td>0.0</td>\n",
              "      <td>9.0</td>\n",
              "      <td>24.0</td>\n",
              "      <td>56.0</td>\n",
              "      <td>362.0</td>\n",
              "      <td>52.167439</td>\n",
              "    </tr>\n",
              "    <tr>\n",
              "      <th>NumDealsPurchases</th>\n",
              "      <td>2240.0</td>\n",
              "      <td>NaN</td>\n",
              "      <td>NaN</td>\n",
              "      <td>NaN</td>\n",
              "      <td>2.325</td>\n",
              "      <td>0.0</td>\n",
              "      <td>1.0</td>\n",
              "      <td>2.0</td>\n",
              "      <td>3.0</td>\n",
              "      <td>15.0</td>\n",
              "      <td>1.932238</td>\n",
              "    </tr>\n",
              "    <tr>\n",
              "      <th>NumWebPurchases</th>\n",
              "      <td>2240.0</td>\n",
              "      <td>NaN</td>\n",
              "      <td>NaN</td>\n",
              "      <td>NaN</td>\n",
              "      <td>4.084821</td>\n",
              "      <td>0.0</td>\n",
              "      <td>2.0</td>\n",
              "      <td>4.0</td>\n",
              "      <td>6.0</td>\n",
              "      <td>27.0</td>\n",
              "      <td>2.778714</td>\n",
              "    </tr>\n",
              "    <tr>\n",
              "      <th>NumCatalogPurchases</th>\n",
              "      <td>2240.0</td>\n",
              "      <td>NaN</td>\n",
              "      <td>NaN</td>\n",
              "      <td>NaN</td>\n",
              "      <td>2.662054</td>\n",
              "      <td>0.0</td>\n",
              "      <td>0.0</td>\n",
              "      <td>2.0</td>\n",
              "      <td>4.0</td>\n",
              "      <td>28.0</td>\n",
              "      <td>2.923101</td>\n",
              "    </tr>\n",
              "    <tr>\n",
              "      <th>NumStorePurchases</th>\n",
              "      <td>2240.0</td>\n",
              "      <td>NaN</td>\n",
              "      <td>NaN</td>\n",
              "      <td>NaN</td>\n",
              "      <td>5.790179</td>\n",
              "      <td>0.0</td>\n",
              "      <td>3.0</td>\n",
              "      <td>5.0</td>\n",
              "      <td>8.0</td>\n",
              "      <td>13.0</td>\n",
              "      <td>3.250958</td>\n",
              "    </tr>\n",
              "    <tr>\n",
              "      <th>NumWebVisitsMonth</th>\n",
              "      <td>2240.0</td>\n",
              "      <td>NaN</td>\n",
              "      <td>NaN</td>\n",
              "      <td>NaN</td>\n",
              "      <td>5.316518</td>\n",
              "      <td>0.0</td>\n",
              "      <td>3.0</td>\n",
              "      <td>6.0</td>\n",
              "      <td>7.0</td>\n",
              "      <td>20.0</td>\n",
              "      <td>2.426645</td>\n",
              "    </tr>\n",
              "    <tr>\n",
              "      <th>Response</th>\n",
              "      <td>2240.0</td>\n",
              "      <td>NaN</td>\n",
              "      <td>NaN</td>\n",
              "      <td>NaN</td>\n",
              "      <td>0.149107</td>\n",
              "      <td>0.0</td>\n",
              "      <td>0.0</td>\n",
              "      <td>0.0</td>\n",
              "      <td>0.0</td>\n",
              "      <td>1.0</td>\n",
              "      <td>0.356274</td>\n",
              "    </tr>\n",
              "    <tr>\n",
              "      <th>Complain</th>\n",
              "      <td>2240.0</td>\n",
              "      <td>NaN</td>\n",
              "      <td>NaN</td>\n",
              "      <td>NaN</td>\n",
              "      <td>0.009375</td>\n",
              "      <td>0.0</td>\n",
              "      <td>0.0</td>\n",
              "      <td>0.0</td>\n",
              "      <td>0.0</td>\n",
              "      <td>1.0</td>\n",
              "      <td>0.096391</td>\n",
              "    </tr>\n",
              "  </tbody>\n",
              "</table>\n",
              "</div>"
            ],
            "text/plain": [
              "                      count unique         top  freq  \\\n",
              "Id                   2240.0    NaN         NaN   NaN   \n",
              "Year_Birth           2240.0    NaN         NaN   NaN   \n",
              "Education              2240      5  Graduation  1127   \n",
              "Marital_Status         2240      8     Married   864   \n",
              "Income               2240.0    NaN         NaN   NaN   \n",
              "Kidhome              2240.0    NaN         NaN   NaN   \n",
              "Teenhome             2240.0    NaN         NaN   NaN   \n",
              "Dt_Customer            2240    NaN         NaN   NaN   \n",
              "Recency              2240.0    NaN         NaN   NaN   \n",
              "MntWines             2240.0    NaN         NaN   NaN   \n",
              "MntFruits            2240.0    NaN         NaN   NaN   \n",
              "MntMeatProducts      2240.0    NaN         NaN   NaN   \n",
              "MntFishProducts      2240.0    NaN         NaN   NaN   \n",
              "MntSweetProducts     2240.0    NaN         NaN   NaN   \n",
              "MntGoldProds         2240.0    NaN         NaN   NaN   \n",
              "NumDealsPurchases    2240.0    NaN         NaN   NaN   \n",
              "NumWebPurchases      2240.0    NaN         NaN   NaN   \n",
              "NumCatalogPurchases  2240.0    NaN         NaN   NaN   \n",
              "NumStorePurchases    2240.0    NaN         NaN   NaN   \n",
              "NumWebVisitsMonth    2240.0    NaN         NaN   NaN   \n",
              "Response             2240.0    NaN         NaN   NaN   \n",
              "Complain             2240.0    NaN         NaN   NaN   \n",
              "\n",
              "                                              mean                  min  \\\n",
              "Id                                     5592.159821                  0.0   \n",
              "Year_Birth                             1968.805804               1893.0   \n",
              "Education                                      NaN                  NaN   \n",
              "Marital_Status                                 NaN                  NaN   \n",
              "Income                                52253.592375               1730.0   \n",
              "Kidhome                                   0.444196                  0.0   \n",
              "Teenhome                                   0.50625                  0.0   \n",
              "Dt_Customer          2017-10-27 12:16:04.285714432  2012-07-30 00:00:00   \n",
              "Recency                                  49.109375                  0.0   \n",
              "MntWines                                303.935714                  0.0   \n",
              "MntFruits                                26.302232                  0.0   \n",
              "MntMeatProducts                             166.95                  0.0   \n",
              "MntFishProducts                          37.525446                  0.0   \n",
              "MntSweetProducts                         27.062946                  0.0   \n",
              "MntGoldProds                             44.021875                  0.0   \n",
              "NumDealsPurchases                            2.325                  0.0   \n",
              "NumWebPurchases                           4.084821                  0.0   \n",
              "NumCatalogPurchases                       2.662054                  0.0   \n",
              "NumStorePurchases                         5.790179                  0.0   \n",
              "NumWebVisitsMonth                         5.316518                  0.0   \n",
              "Response                                  0.149107                  0.0   \n",
              "Complain                                  0.009375                  0.0   \n",
              "\n",
              "                                     25%                  50%  \\\n",
              "Id                               2828.25               5458.5   \n",
              "Year_Birth                        1959.0               1970.0   \n",
              "Education                            NaN                  NaN   \n",
              "Marital_Status                       NaN                  NaN   \n",
              "Income                          35538.75              51609.5   \n",
              "Kidhome                              0.0                  0.0   \n",
              "Teenhome                             0.0                  0.0   \n",
              "Dt_Customer          2013-05-24 18:00:00  2014-03-23 00:00:00   \n",
              "Recency                             24.0                 49.0   \n",
              "MntWines                           23.75                173.5   \n",
              "MntFruits                            1.0                  8.0   \n",
              "MntMeatProducts                     16.0                 67.0   \n",
              "MntFishProducts                      3.0                 12.0   \n",
              "MntSweetProducts                     1.0                  8.0   \n",
              "MntGoldProds                         9.0                 24.0   \n",
              "NumDealsPurchases                    1.0                  2.0   \n",
              "NumWebPurchases                      2.0                  4.0   \n",
              "NumCatalogPurchases                  0.0                  2.0   \n",
              "NumStorePurchases                    3.0                  5.0   \n",
              "NumWebVisitsMonth                    3.0                  6.0   \n",
              "Response                             0.0                  0.0   \n",
              "Complain                             0.0                  0.0   \n",
              "\n",
              "                                     75%                  max           std  \n",
              "Id                               8427.75              11191.0   3246.662198  \n",
              "Year_Birth                        1977.0               1996.0     11.984069  \n",
              "Education                            NaN                  NaN           NaN  \n",
              "Marital_Status                       NaN                  NaN           NaN  \n",
              "Income                          68289.75             666666.0  25039.085601  \n",
              "Kidhome                              1.0                  2.0      0.538398  \n",
              "Teenhome                             1.0                  2.0      0.544538  \n",
              "Dt_Customer          2024-01-01 00:00:00  2024-01-01 00:00:00           NaN  \n",
              "Recency                             74.0                 99.0     28.962453  \n",
              "MntWines                          504.25               1493.0    336.597393  \n",
              "MntFruits                           33.0                199.0     39.773434  \n",
              "MntMeatProducts                    232.0               1725.0    225.715373  \n",
              "MntFishProducts                     50.0                259.0     54.628979  \n",
              "MntSweetProducts                    33.0                263.0     41.280498  \n",
              "MntGoldProds                        56.0                362.0     52.167439  \n",
              "NumDealsPurchases                    3.0                 15.0      1.932238  \n",
              "NumWebPurchases                      6.0                 27.0      2.778714  \n",
              "NumCatalogPurchases                  4.0                 28.0      2.923101  \n",
              "NumStorePurchases                    8.0                 13.0      3.250958  \n",
              "NumWebVisitsMonth                    7.0                 20.0      2.426645  \n",
              "Response                             0.0                  1.0      0.356274  \n",
              "Complain                             0.0                  1.0      0.096391  "
            ]
          },
          "execution_count": 16,
          "metadata": {},
          "output_type": "execute_result"
        }
      ],
      "source": [
        "data.describe(include=\"all\").T"
      ]
    },
    {
      "cell_type": "markdown",
      "metadata": {},
      "source": [
        "Observations:\n",
        "\n",
        "Year_Birth has a long range from  1893(min) and 1996(max).\n",
        "\n",
        "The birth year less or ewual to 1900 that means the person is not alive.\n",
        "\n",
        "Income has a max value of 666666 which is far greater than the mean and could be an outlier.\n",
        "\n",
        "Columns including Income, MntFruits, MntWines, MntMeatProducts, MntFishProducts, MntSweetProducts might have outliers on the right end as there is a large difference between 75th percentile and maximum values.\n",
        "\n",
        "Recency has an approx equal mean and median which is equal to 49 days.\n",
        "\n",
        "Highest mean amount spent per customer in the last two years is on wines (approx 303), followed by meat products (approx 166)."
      ]
    },
    {
      "cell_type": "markdown",
      "metadata": {},
      "source": [
        "**visualizations.**"
      ]
    },
    {
      "cell_type": "markdown",
      "metadata": {},
      "source": [
        "Descriptive Statistics==>\n",
        "\n",
        "For Age:Mean,Median,Mode,Standard Deviation,Quartiles (25th, 50th, 75th)\n",
        "\n",
        "For Education: Frequency counts for each education categorie\n",
        "\n",
        "For Marital Status: Frequency counts for each marital status category"
      ]
    },
    {
      "cell_type": "code",
      "execution_count": 17,
      "metadata": {},
      "outputs": [
        {
          "name": "stdout",
          "output_type": "stream",
          "text": [
            "562      25\n",
            "1824     25\n",
            "697      26\n",
            "1468     26\n",
            "964      26\n",
            "       ... \n",
            "1740     80\n",
            "2171     81\n",
            "2233    121\n",
            "827     122\n",
            "513     128\n",
            "Name: Age, Length: 2240, dtype: int64\n",
            "3\n",
            "*** Descriptive stats of Age ***\n",
            "count    2237.000000\n",
            "mean       52.098346\n",
            "std        11.701917\n",
            "min        25.000000\n",
            "25%        44.000000\n",
            "50%        51.000000\n",
            "75%        62.000000\n",
            "max        81.000000\n",
            "Name: Age, dtype: float64\n"
          ]
        }
      ],
      "source": [
        "# Descriptive statistics for Age\n",
        "# Creating new Age column.\n",
        "data[\"Age\"] = 2021 - data[\"Year_Birth\"]\n",
        "print(data[\"Age\"].sort_values())           # As we can see their are some ages which are more than or equal to 100 years which is genearlly not possible\n",
        "\n",
        "# we have to drop those records where age is > 100 , let's see how many records \n",
        "\n",
        "print(len(data[data[\"Age\"] > 100])) # their are 3 reocrds which are having > 100 age.\n",
        "data.drop(data[data[\"Age\"] > 100].index, inplace=True)  # removing the records age > 100\n",
        "\n",
        "print(\"*** Descriptive stats of Age ***\")\n",
        "age_stats = data['Age'].describe()\n",
        "print(age_stats)"
      ]
    },
    {
      "cell_type": "markdown",
      "metadata": {},
      "source": [
        "Observation from Age column:\n",
        "\n",
        "Count: There are 2237 observations of age in the dataset.\n",
        "\n",
        "Mean: The average age of customers is approximately 52 years old. This indicates that the dataset consists of mostly middle-aged pople.\n",
        "\n",
        "Standard Deviation: The standard deviation of approximately 11.7 suggests that ages are somewhat spread out from the mean. There might be some variability in the ages of customers.\n",
        "Minimum (Min): The youngest customer in the dataset is 25 years old.\n",
        "\n",
        "25th Percentile (25%): 25% of the customers are below the age of 44.\n",
        "\n",
        "Median (50%): The median age, which is 51 years old, represents the middle value of the dataset when it's sorted in ascending order. This implies that half of the customers are below 51 years old, and the other half are above.\n",
        "\n",
        "75th Percentile (75%): 75% of the customers are below the age of 62.\n",
        "\n",
        "Maximum (Max): The oldest customer in the dataset is 81 years old.\n",
        "\n",
        "Conclusion: majority of customers are middle-aged, with ages ranging from 25 to 81 years old. ages are slightly skewd towards older ages because the mean being slightly higher than the median."
      ]
    },
    {
      "cell_type": "code",
      "execution_count": null,
      "metadata": {},
      "outputs": [],
      "source": []
    },
    {
      "cell_type": "code",
      "execution_count": 18,
      "metadata": {},
      "outputs": [
        {
          "name": "stdout",
          "output_type": "stream",
          "text": [
            "Education\n",
            "Graduation    1127\n",
            "PhD            485\n",
            "Master         370\n",
            "2n Cycle       201\n",
            "Basic           54\n",
            "Name: count, dtype: int64\n",
            "*************************\n",
            "Marital_Status\n",
            "Married     864\n",
            "Together    579\n",
            "Single      479\n",
            "Divorced    231\n",
            "Widow        77\n",
            "Alone         3\n",
            "YOLO          2\n",
            "Absurd        2\n",
            "Name: count, dtype: int64\n"
          ]
        }
      ],
      "source": [
        "# Descriptive statistics for Education and Marital Status\n",
        "# Frequency counts for Education and Marital Status\n",
        "edu_counts = data['Education'].value_counts()\n",
        "print(edu_counts)\n",
        "print('*'*25)\n",
        "marital_counts = data['Marital_Status'].value_counts()\n",
        "print(marital_counts)"
      ]
    },
    {
      "cell_type": "code",
      "execution_count": 19,
      "metadata": {},
      "outputs": [
        {
          "name": "stdout",
          "output_type": "stream",
          "text": [
            "Description of Education and Marital_Status columns in one go: \n",
            "\n",
            "         Education Marital_Status\n",
            "count         2237           2237\n",
            "unique           5              8\n",
            "top     Graduation        Married\n",
            "freq          1127            864\n"
          ]
        }
      ],
      "source": [
        "# Description of Education and Marital_Status columns together\n",
        "edu_marital_description = pd.concat([data['Education'].describe(), data['Marital_Status'].describe()], axis=1)\n",
        "edu_marital_description.columns = ['Education', 'Marital_Status']\n",
        "\n",
        "print(\"Description of Education and Marital_Status columns in one go: \\n\")\n",
        "print(edu_marital_description)\n"
      ]
    },
    {
      "cell_type": "markdown",
      "metadata": {},
      "source": [
        "Observation from Education and Marital_Status column:\n",
        "\n",
        "Count:\n",
        "Education: There are 2237 observations.\n",
        "Marital_Status: There are 2237 observations.\n",
        "\n",
        "Unique Values:\n",
        "Education: There are 5 unique education levels among customers.\n",
        "Marital_Status: There are 8 unique marital statuses among customers.\n",
        "\n",
        "Most Frequent Value :\n",
        "Education: The most frequent education level among customers is 'Graduation'.\n",
        "Marital_Status: The most frequent marital status among customers is 'Married'.\n",
        "\n",
        "Frequency of Most Frequent Value:\n",
        "Education: The education level 'Graduation' appears 1127 times in the dataset.\n",
        "Marital_Status: The marital status 'Married' appears 864 times in the dataset."
      ]
    },
    {
      "cell_type": "markdown",
      "metadata": {},
      "source": [
        "**visualizations**"
      ]
    },
    {
      "cell_type": "code",
      "execution_count": 20,
      "metadata": {},
      "outputs": [
        {
          "data": {
            "image/png": "[encoded data removed]",
            "text/plain": [
              "<Figure size 1200x1000 with 3 Axes>"
            ]
          },
          "metadata": {},
          "output_type": "display_data"
        }
      ],
      "source": [
        "import matplotlib.pyplot as plt\n",
        "import seaborn as sns\n",
        "\n",
        "\n",
        "plt.figure(figsize=(12, 10))\n",
        "\n",
        "# Histogram of Age\n",
        "plt.subplot(2, 2, 1)\n",
        "sns.histplot(data['Age'], bins=20, kde=True)\n",
        "plt.title('Histogram of Age')\n",
        "plt.xlabel('Age')\n",
        "\n",
        "# Bar Plot for Education\n",
        "plt.subplot(2, 2, 2)\n",
        "edu_counts.plot(kind='bar', color='skyblue')\n",
        "plt.title('Education Distribution')\n",
        "plt.xlabel('Education Level')\n",
        "plt.ylabel('Frequency')\n",
        "\n",
        "# Pie Chart for Marital Status\n",
        "plt.subplot(2, 2, 3)\n",
        "marital_counts.plot(kind='pie', autopct='%1.1f%%', startangle=140)\n",
        "plt.title('Marital Status Distribution')\n",
        "\n",
        "plt.show()\n",
        "\n"
      ]
    },
    {
      "cell_type": "code",
      "execution_count": null,
      "metadata": {},
      "outputs": [],
      "source": []
    },
    {
      "cell_type": "code",
      "execution_count": null,
      "metadata": {},
      "outputs": [],
      "source": []
    },
    {
      "cell_type": "markdown",
      "metadata": {
        "id": "bDza2Cu0YpE6"
      },
      "source": [
        "## Task 2 - Descriptive Statistics 📊\n",
        "\n",
        "- **Calculate measures of central tendency (mean, median, mode) and measures of dispersion (variance, standard deviation) for key variables. Identify and handle outliers if necessary.**\n"
      ]
    },
    {
      "cell_type": "markdown",
      "metadata": {
        "id": "pGrBYXGWZtYe"
      },
      "source": [
        "**Deliverables**:\n",
        "\n",
        "- **Descriptive statistics that reveal the central tendencies, variations, and potential outliers in the dataset.**:\n",
        "\n",
        "  "
      ]
    },
    {
      "cell_type": "markdown",
      "metadata": {},
      "source": [
        "## Solution Task 2"
      ]
    },
    {
      "cell_type": "markdown",
      "metadata": {},
      "source": [
        "#### Fristly we will look into the outliers and visualize them using Box Plot."
      ]
    },
    {
      "cell_type": "code",
      "execution_count": 21,
      "metadata": {},
      "outputs": [
        {
          "name": "stdout",
          "output_type": "stream",
          "text": [
            "Column 'Income' has 8 outliers.\n"
          ]
        },
        {
          "data": {
            "image/png": "[encoded data removed]",
            "text/plain": [
              "<Figure size 500x400 with 1 Axes>"
            ]
          },
          "metadata": {},
          "output_type": "display_data"
        },
        {
          "name": "stdout",
          "output_type": "stream",
          "text": [
            "Column 'MntWines' has 35 outliers.\n"
          ]
        },
        {
          "data": {
            "image/png": "[encoded data removed]",
            "text/plain": [
              "<Figure size 500x400 with 1 Axes>"
            ]
          },
          "metadata": {},
          "output_type": "display_data"
        },
        {
          "name": "stdout",
          "output_type": "stream",
          "text": [
            "Column 'MntFruits' has 226 outliers.\n"
          ]
        },
        {
          "data": {
            "image/png": "[encoded data removed]",
            "text/plain": [
              "<Figure size 500x400 with 1 Axes>"
            ]
          },
          "metadata": {},
          "output_type": "display_data"
        },
        {
          "name": "stdout",
          "output_type": "stream",
          "text": [
            "Column 'MntMeatProducts' has 174 outliers.\n"
          ]
        },
        {
          "data": {
            "image/png": "[encoded data removed]",
            "text/plain": [
              "<Figure size 500x400 with 1 Axes>"
            ]
          },
          "metadata": {},
          "output_type": "display_data"
        },
        {
          "name": "stdout",
          "output_type": "stream",
          "text": [
            "Column 'MntFishProducts' has 223 outliers.\n"
          ]
        },
        {
          "data": {
            "image/png": "[encoded data removed]",
            "text/plain": [
              "<Figure size 500x400 with 1 Axes>"
            ]
          },
          "metadata": {},
          "output_type": "display_data"
        },
        {
          "name": "stdout",
          "output_type": "stream",
          "text": [
            "Column 'MntSweetProducts' has 248 outliers.\n"
          ]
        },
        {
          "data": {
            "image/png": "[encoded data removed]",
            "text/plain": [
              "<Figure size 500x400 with 1 Axes>"
            ]
          },
          "metadata": {},
          "output_type": "display_data"
        },
        {
          "name": "stdout",
          "output_type": "stream",
          "text": [
            "Column 'MntGoldProds' has 206 outliers.\n"
          ]
        },
        {
          "data": {
            "image/png": "[encoded data removed]",
            "text/plain": [
              "<Figure size 500x400 with 1 Axes>"
            ]
          },
          "metadata": {},
          "output_type": "display_data"
        },
        {
          "name": "stdout",
          "output_type": "stream",
          "text": [
            "Columns with outliers: ['Income', 'MntWines', 'MntFruits', 'MntMeatProducts', 'MntFishProducts', 'MntSweetProducts', 'MntGoldProds']\n"
          ]
        }
      ],
      "source": [
        "import pandas as pd\n",
        "import matplotlib.pyplot as plt\n",
        "\n",
        "# numerical columns to check for outliers\n",
        "numerical_columns = ['Year_Birth', 'Income', 'Kidhome', 'Teenhome', 'Recency', \n",
        "                     'MntWines', 'MntFruits', 'MntMeatProducts', 'MntFishProducts', \n",
        "                     'MntSweetProducts', 'MntGoldProds']\n",
        "\n",
        "# Function to identify and handle outliers using IQR method\n",
        "def handle_outliers(column):\n",
        "    \n",
        "    Q1 = column.quantile(0.25)\n",
        "    Q3 = column.quantile(0.75)\n",
        "    IQR = Q3 - Q1\n",
        "    \n",
        "    lower_bound = Q1 - 1.5 * IQR   # lower and upper bounds for outliers\n",
        "    upper_bound = Q3 + 1.5 * IQR\n",
        "    \n",
        "    # Identify outliers\n",
        "    outliers = column[(column < lower_bound) | (column > upper_bound)]\n",
        "    \n",
        "    return outliers\n",
        "\n",
        "\n",
        "columns_with_outliers = []  # Store columns with outliers\n",
        "\n",
        "for col in numerical_columns:                       # Loop through each numerical column and identify outliers\n",
        "    outliers = handle_outliers(data[col])\n",
        "    if not outliers.empty:\n",
        "        print(f\"Column '{col}' has {len(outliers)} outliers.\")\n",
        "        columns_with_outliers.append(col)\n",
        "        \n",
        "        # Box plot to visualize outliers\n",
        "        plt.figure(figsize=(5, 4))\n",
        "        plt.title(f'Box Plot of {col}')\n",
        "        plt.boxplot(data[col].dropna(), vert=False)\n",
        "        plt.xlabel(col)\n",
        "        plt.show()\n",
        "\n",
        "print(\"Columns with outliers:\", columns_with_outliers)\n"
      ]
    },
    {
      "cell_type": "markdown",
      "metadata": {},
      "source": [
        "For Income Column... <br>\n",
        "We can see there are some outliers in the income variable.<br>\n",
        "Some values are expected in real-world scenarios for the income variable but we can remove the data point on the extreme right end of the boxplot because that might be a data entry error."
      ]
    },
    {
      "cell_type": "code",
      "execution_count": 22,
      "metadata": {},
      "outputs": [
        {
          "name": "stdout",
          "output_type": "stream",
          "text": [
            "Total count greater thatn 200000 are:  1\n"
          ]
        }
      ],
      "source": [
        "print(\"Total count greater thatn 200000 are: \",len(data[data[\"Income\"] > 200000])) # so, as here is only one reocrd so we can remove it.\n",
        "data.drop(index=data[data.Income > 200000].index, inplace=True) # removed data."
      ]
    },
    {
      "cell_type": "markdown",
      "metadata": {},
      "source": [
        "For MntWines Column...<br>\n",
        "\n",
        "There are some outliers on the right end of the boxplot but we will not treat them as otulier because as some of the variation is always expected in real-word while spending money on products like wine."
      ]
    },
    {
      "cell_type": "markdown",
      "metadata": {},
      "source": [
        "For MntFruits Column...<br>\n",
        "\n",
        "There are some outliers on the right end of the boxplot but we will not treat them as otulier because as some of the variation is always expected in real-word while spending money on products."
      ]
    },
    {
      "cell_type": "markdown",
      "metadata": {},
      "source": [
        "For MntMeatProducts Column...<br>\n",
        "\n",
        "The distribution for the amount spent on meat products is highly skewed to the right, as some of the values are very far from the rest of the vlaues <br>\n",
        "We can cap the value of the variable to the next highest value.<br>\n"
      ]
    },
    {
      "cell_type": "code",
      "execution_count": 24,
      "metadata": {},
      "outputs": [
        {
          "data": {
            "text/plain": [
              "325     1725\n",
              "961     1725\n",
              "497     1622\n",
              "1213    1607\n",
              "2204    1582\n",
              "1921     984\n",
              "53       981\n",
              "994      974\n",
              "2021     968\n",
              "1338     961\n",
              "Name: MntMeatProducts, dtype: int64"
            ]
          },
          "execution_count": 24,
          "metadata": {},
          "output_type": "execute_result"
        }
      ],
      "source": [
        "data.MntMeatProducts.nlargest(10) # top 10 amount spent on the product, let's cap the outlier values to 984 amount."
      ]
    },
    {
      "cell_type": "code",
      "execution_count": 25,
      "metadata": {},
      "outputs": [
        {
          "data": {
            "text/plain": [
              "984"
            ]
          },
          "execution_count": 25,
          "metadata": {},
          "output_type": "execute_result"
        }
      ],
      "source": [
        "# caping the values\n",
        "data[\"MntMeatProducts\"].clip(upper=984, inplace=True) # values capped to 984\n",
        "max(data[\"MntMeatProducts\"])                          # checking by finding max value"
      ]
    },
    {
      "cell_type": "markdown",
      "metadata": {},
      "source": [
        "For MntFishProducts Column...<br>\n",
        "\n",
        "There are some outliers on the right end of the boxplot but we will not treat them as otulier because as some people spends more in Fish products."
      ]
    },
    {
      "cell_type": "markdown",
      "metadata": {},
      "source": [
        "For MntSweetProducts Column...<br>\n",
        "\n",
        "There are outliers on the right side , although it shows the market trends , but we will cap some of the max values to the next highest values."
      ]
    },
    {
      "cell_type": "code",
      "execution_count": 30,
      "metadata": {},
      "outputs": [
        {
          "data": {
            "text/plain": [
              "210     198\n",
              "305     198\n",
              "449     198\n",
              "31      197\n",
              "1502    196\n",
              "2067    195\n",
              "994     194\n",
              "1143    194\n",
              "1785    194\n",
              "1055    192\n",
              "Name: MntSweetProducts, dtype: int64"
            ]
          },
          "execution_count": 30,
          "metadata": {},
          "output_type": "execute_result"
        }
      ],
      "source": [
        "data.MntSweetProducts.nlargest(10) # finding 10 largest values"
      ]
    },
    {
      "cell_type": "code",
      "execution_count": 31,
      "metadata": {},
      "outputs": [
        {
          "data": {
            "text/html": [
              "<div>\n",
              "<style scoped>\n",
              "    .dataframe tbody tr th:only-of-type {\n",
              "        vertical-align: middle;\n",
              "    }\n",
              "\n",
              "    .dataframe tbody tr th {\n",
              "        vertical-align: top;\n",
              "    }\n",
              "\n",
              "    .dataframe thead th {\n",
              "        text-align: right;\n",
              "    }\n",
              "</style>\n",
              "<table border=\"1\" class=\"dataframe\">\n",
              "  <thead>\n",
              "    <tr style=\"text-align: right;\">\n",
              "      <th></th>\n",
              "      <th>Id</th>\n",
              "      <th>Year_Birth</th>\n",
              "      <th>Education</th>\n",
              "      <th>Marital_Status</th>\n",
              "      <th>Income</th>\n",
              "      <th>Kidhome</th>\n",
              "      <th>Teenhome</th>\n",
              "      <th>Dt_Customer</th>\n",
              "      <th>Recency</th>\n",
              "      <th>MntWines</th>\n",
              "      <th>...</th>\n",
              "      <th>MntSweetProducts</th>\n",
              "      <th>MntGoldProds</th>\n",
              "      <th>NumDealsPurchases</th>\n",
              "      <th>NumWebPurchases</th>\n",
              "      <th>NumCatalogPurchases</th>\n",
              "      <th>NumStorePurchases</th>\n",
              "      <th>NumWebVisitsMonth</th>\n",
              "      <th>Response</th>\n",
              "      <th>Complain</th>\n",
              "      <th>Age</th>\n",
              "    </tr>\n",
              "  </thead>\n",
              "  <tbody>\n",
              "  </tbody>\n",
              "</table>\n",
              "<p>0 rows × 23 columns</p>\n",
              "</div>"
            ],
            "text/plain": [
              "Empty DataFrame\n",
              "Columns: [Id, Year_Birth, Education, Marital_Status, Income, Kidhome, Teenhome, Dt_Customer, Recency, MntWines, MntFruits, MntMeatProducts, MntFishProducts, MntSweetProducts, MntGoldProds, NumDealsPurchases, NumWebPurchases, NumCatalogPurchases, NumStorePurchases, NumWebVisitsMonth, Response, Complain, Age]\n",
              "Index: []\n",
              "\n",
              "[0 rows x 23 columns]"
            ]
          },
          "execution_count": 31,
          "metadata": {},
          "output_type": "execute_result"
        }
      ],
      "source": [
        "data[data[\"MntSweetProducts\"] > 200] # checking how many records have > 200"
      ]
    },
    {
      "cell_type": "code",
      "execution_count": 32,
      "metadata": {},
      "outputs": [
        {
          "data": {
            "text/plain": [
              "198"
            ]
          },
          "execution_count": 32,
          "metadata": {},
          "output_type": "execute_result"
        }
      ],
      "source": [
        "data[\"MntSweetProducts\"].clip(upper=198, inplace=True) # capping to next largest value which 198\n",
        "max(data[\"MntSweetProducts\"])"
      ]
    },
    {
      "cell_type": "markdown",
      "metadata": {},
      "source": [
        "For MntGoldProds Column...<br>\n",
        "\n",
        "There are outliers on the right side , although it shows the market trends , but we will cap some of the max values to the required value."
      ]
    },
    {
      "cell_type": "code",
      "execution_count": 33,
      "metadata": {},
      "outputs": [
        {
          "data": {
            "text/plain": [
              "449     362\n",
              "14      321\n",
              "2063    291\n",
              "60      262\n",
              "1789    249\n",
              "486     248\n",
              "1030    247\n",
              "419     246\n",
              "1339    245\n",
              "698     242\n",
              "Name: MntGoldProds, dtype: int64"
            ]
          },
          "execution_count": 33,
          "metadata": {},
          "output_type": "execute_result"
        }
      ],
      "source": [
        "data.MntGoldProds.nlargest(10) # finding 10 largest values"
      ]
    },
    {
      "cell_type": "code",
      "execution_count": 34,
      "metadata": {},
      "outputs": [
        {
          "data": {
            "text/html": [
              "<div>\n",
              "<style scoped>\n",
              "    .dataframe tbody tr th:only-of-type {\n",
              "        vertical-align: middle;\n",
              "    }\n",
              "\n",
              "    .dataframe tbody tr th {\n",
              "        vertical-align: top;\n",
              "    }\n",
              "\n",
              "    .dataframe thead th {\n",
              "        text-align: right;\n",
              "    }\n",
              "</style>\n",
              "<table border=\"1\" class=\"dataframe\">\n",
              "  <thead>\n",
              "    <tr style=\"text-align: right;\">\n",
              "      <th></th>\n",
              "      <th>Id</th>\n",
              "      <th>Year_Birth</th>\n",
              "      <th>Education</th>\n",
              "      <th>Marital_Status</th>\n",
              "      <th>Income</th>\n",
              "      <th>Kidhome</th>\n",
              "      <th>Teenhome</th>\n",
              "      <th>Dt_Customer</th>\n",
              "      <th>Recency</th>\n",
              "      <th>MntWines</th>\n",
              "      <th>...</th>\n",
              "      <th>MntSweetProducts</th>\n",
              "      <th>MntGoldProds</th>\n",
              "      <th>NumDealsPurchases</th>\n",
              "      <th>NumWebPurchases</th>\n",
              "      <th>NumCatalogPurchases</th>\n",
              "      <th>NumStorePurchases</th>\n",
              "      <th>NumWebVisitsMonth</th>\n",
              "      <th>Response</th>\n",
              "      <th>Complain</th>\n",
              "      <th>Age</th>\n",
              "    </tr>\n",
              "  </thead>\n",
              "  <tbody>\n",
              "    <tr>\n",
              "      <th>14</th>\n",
              "      <td>10311</td>\n",
              "      <td>1969</td>\n",
              "      <td>Graduation</td>\n",
              "      <td>Married</td>\n",
              "      <td>4428.000000</td>\n",
              "      <td>0</td>\n",
              "      <td>1</td>\n",
              "      <td>2024-01-01</td>\n",
              "      <td>0</td>\n",
              "      <td>16</td>\n",
              "      <td>...</td>\n",
              "      <td>4</td>\n",
              "      <td>321</td>\n",
              "      <td>0</td>\n",
              "      <td>25</td>\n",
              "      <td>0</td>\n",
              "      <td>0</td>\n",
              "      <td>1</td>\n",
              "      <td>0</td>\n",
              "      <td>0</td>\n",
              "      <td>52</td>\n",
              "    </tr>\n",
              "    <tr>\n",
              "      <th>60</th>\n",
              "      <td>4246</td>\n",
              "      <td>1982</td>\n",
              "      <td>Master</td>\n",
              "      <td>Single</td>\n",
              "      <td>6560.000000</td>\n",
              "      <td>0</td>\n",
              "      <td>0</td>\n",
              "      <td>2024-01-01</td>\n",
              "      <td>2</td>\n",
              "      <td>67</td>\n",
              "      <td>...</td>\n",
              "      <td>3</td>\n",
              "      <td>262</td>\n",
              "      <td>0</td>\n",
              "      <td>1</td>\n",
              "      <td>0</td>\n",
              "      <td>1</td>\n",
              "      <td>17</td>\n",
              "      <td>0</td>\n",
              "      <td>0</td>\n",
              "      <td>39</td>\n",
              "    </tr>\n",
              "    <tr>\n",
              "      <th>449</th>\n",
              "      <td>5255</td>\n",
              "      <td>1986</td>\n",
              "      <td>Graduation</td>\n",
              "      <td>Single</td>\n",
              "      <td>52720.373656</td>\n",
              "      <td>1</td>\n",
              "      <td>0</td>\n",
              "      <td>2013-02-20</td>\n",
              "      <td>19</td>\n",
              "      <td>5</td>\n",
              "      <td>...</td>\n",
              "      <td>198</td>\n",
              "      <td>362</td>\n",
              "      <td>0</td>\n",
              "      <td>27</td>\n",
              "      <td>0</td>\n",
              "      <td>0</td>\n",
              "      <td>1</td>\n",
              "      <td>0</td>\n",
              "      <td>0</td>\n",
              "      <td>35</td>\n",
              "    </tr>\n",
              "    <tr>\n",
              "      <th>2063</th>\n",
              "      <td>6237</td>\n",
              "      <td>1966</td>\n",
              "      <td>PhD</td>\n",
              "      <td>Single</td>\n",
              "      <td>7144.000000</td>\n",
              "      <td>0</td>\n",
              "      <td>2</td>\n",
              "      <td>2024-01-01</td>\n",
              "      <td>92</td>\n",
              "      <td>81</td>\n",
              "      <td>...</td>\n",
              "      <td>2</td>\n",
              "      <td>291</td>\n",
              "      <td>0</td>\n",
              "      <td>23</td>\n",
              "      <td>1</td>\n",
              "      <td>1</td>\n",
              "      <td>0</td>\n",
              "      <td>0</td>\n",
              "      <td>0</td>\n",
              "      <td>55</td>\n",
              "    </tr>\n",
              "  </tbody>\n",
              "</table>\n",
              "<p>4 rows × 23 columns</p>\n",
              "</div>"
            ],
            "text/plain": [
              "         Id  Year_Birth   Education Marital_Status        Income  Kidhome  \\\n",
              "14    10311        1969  Graduation        Married   4428.000000        0   \n",
              "60     4246        1982      Master         Single   6560.000000        0   \n",
              "449    5255        1986  Graduation         Single  52720.373656        1   \n",
              "2063   6237        1966         PhD         Single   7144.000000        0   \n",
              "\n",
              "      Teenhome Dt_Customer  Recency  MntWines  ...  MntSweetProducts  \\\n",
              "14           1  2024-01-01        0        16  ...                 4   \n",
              "60           0  2024-01-01        2        67  ...                 3   \n",
              "449          0  2013-02-20       19         5  ...               198   \n",
              "2063         2  2024-01-01       92        81  ...                 2   \n",
              "\n",
              "      MntGoldProds  NumDealsPurchases  NumWebPurchases  NumCatalogPurchases  \\\n",
              "14             321                  0               25                    0   \n",
              "60             262                  0                1                    0   \n",
              "449            362                  0               27                    0   \n",
              "2063           291                  0               23                    1   \n",
              "\n",
              "      NumStorePurchases  NumWebVisitsMonth  Response  Complain  Age  \n",
              "14                    0                  1         0         0   52  \n",
              "60                    1                 17         0         0   39  \n",
              "449                   0                  1         0         0   35  \n",
              "2063                  1                  0         0         0   55  \n",
              "\n",
              "[4 rows x 23 columns]"
            ]
          },
          "execution_count": 34,
          "metadata": {},
          "output_type": "execute_result"
        }
      ],
      "source": [
        "data[data[\"MntGoldProds\"] > 250]"
      ]
    },
    {
      "cell_type": "code",
      "execution_count": 35,
      "metadata": {},
      "outputs": [
        {
          "data": {
            "text/plain": [
              "249"
            ]
          },
          "execution_count": 35,
          "metadata": {},
          "output_type": "execute_result"
        }
      ],
      "source": [
        "data[\"MntGoldProds\"].clip(upper=249, inplace=True)\n",
        "max(data[\"MntGoldProds\"])    # checking the max capped value"
      ]
    },
    {
      "cell_type": "code",
      "execution_count": null,
      "metadata": {},
      "outputs": [],
      "source": []
    },
    {
      "cell_type": "code",
      "execution_count": null,
      "metadata": {},
      "outputs": [],
      "source": []
    },
    {
      "cell_type": "code",
      "execution_count": null,
      "metadata": {},
      "outputs": [],
      "source": []
    },
    {
      "cell_type": "markdown",
      "metadata": {},
      "source": []
    },
    {
      "cell_type": "code",
      "execution_count": null,
      "metadata": {},
      "outputs": [],
      "source": []
    },
    {
      "cell_type": "markdown",
      "metadata": {
        "id": "GCB3OLxXaSCZ"
      },
      "source": [
        "## Task 3 - Probability Distributions 🎲\n",
        "\n",
        "- **Identify variables that could follow specific probability distributions (e.g., Binomial, Normal). Calculate probabilities and expected values based on these distributions.**\n",
        "\n"
      ]
    },
    {
      "cell_type": "markdown",
      "metadata": {
        "id": "kgjtExiJay2_"
      },
      "source": [
        "**Deliverables**:\n",
        "\n",
        "- **Determination of suitable probability distributions for relevant variables and corresponding calculated probabilities and expected values.**:\n",
        "\n",
        "  "
      ]
    },
    {
      "cell_type": "markdown",
      "metadata": {
        "id": "ZSHZP8wgcIKE"
      },
      "source": [
        "## Task 4: Insights and Customer Segmentation 📈\n",
        "\n",
        "- **Explore relationships between customer characteristics and spending habits. Segment customers based on their behaviors and characteristics.**"
      ]
    },
    {
      "cell_type": "markdown",
      "metadata": {
        "id": "1UYOJxazcRi3"
      },
      "source": [
        "**Deliverables**:\n",
        "\n",
        "- **Key insights regarding relationships between variables and distinct customer segments based on behaviors.**\n",
        "\n",
        "  "
      ]
    },
    {
      "cell_type": "markdown",
      "metadata": {
        "id": "Fv6iVJbgiwf2"
      },
      "source": [
        "## Task 5: Conclusion and Recommendations\n",
        "\n",
        "- **Create clear visualizations to showcase your findings. Use insights to make recommendations for the company based on your analysis.**"
      ]
    },
    {
      "cell_type": "markdown",
      "metadata": {
        "id": "-z5hEuOejQjd"
      },
      "source": [
        "**Deliverables**:\n",
        "\n",
        "- **Well-designed visualizations that visually represent your insights and actionable recommendations based on customer behavior analysis.**"
      ]
    },
    {
      "cell_type": "markdown",
      "metadata": {
        "id": "Fib_ksA9jmii"
      },
      "source": [
        "## Bonus Task - Geogebra Experiment\n",
        "\n"
      ]
    },
    {
      "cell_type": "markdown",
      "metadata": {
        "id": "olsEhR8RjsIF"
      },
      "source": [
        "Here's the link to an intriguing GeoGebra experiment: [GeoGebra Experiment Link](https://www.geogebra.org/m/LZbwMZtJ)\n",
        "\n",
        "This experiment lets you simulate coin flips as per your preferences and specifications!\n",
        "\n",
        "Your task involves recording a video where you'll explain the concept of the **Law of Large Numbers** using this experiment. Dive further into the experience by adjusting the number of coins and exploring varying coin biases. 🪙📹🔍"
      ]
    }
  ],
  "metadata": {
    "colab": {
      "provenance": []
    },
    "kernelspec": {
      "display_name": "Python 3",
      "name": "python3"
    },
    "language_info": {
      "codemirror_mode": {
        "name": "ipython",
        "version": 3
      },
      "file_extension": ".py",
      "mimetype": "text/x-python",
      "name": "python",
      "nbconvert_exporter": "python",
      "pygments_lexer": "ipython3",
      "version": "3.11.5"
    }
  },
  "nbformat": 4,
  "nbformat_minor": 0
}
